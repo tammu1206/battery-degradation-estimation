{
 "cells": [
  {
   "cell_type": "code",
   "execution_count": 13,
   "id": "63e5ba5b-f087-4730-a703-9f62fcaaca44",
   "metadata": {},
   "outputs": [
    {
     "name": "stdout",
     "output_type": "stream",
     "text": [
      "Requirement already satisfied: seaborn in c:\\users\\tamanna\\anaconda3\\envs\\ai_env\\lib\\site-packages (0.13.2)\n",
      "Requirement already satisfied: numpy!=1.24.0,>=1.20 in c:\\users\\tamanna\\anaconda3\\envs\\ai_env\\lib\\site-packages (from seaborn) (2.1.3)\n",
      "Requirement already satisfied: pandas>=1.2 in c:\\users\\tamanna\\anaconda3\\envs\\ai_env\\lib\\site-packages (from seaborn) (2.2.3)\n",
      "Requirement already satisfied: matplotlib!=3.6.1,>=3.4 in c:\\users\\tamanna\\anaconda3\\envs\\ai_env\\lib\\site-packages (from seaborn) (3.10.0)\n",
      "Requirement already satisfied: contourpy>=1.0.1 in c:\\users\\tamanna\\anaconda3\\envs\\ai_env\\lib\\site-packages (from matplotlib!=3.6.1,>=3.4->seaborn) (1.3.1)\n",
      "Requirement already satisfied: cycler>=0.10 in c:\\users\\tamanna\\anaconda3\\envs\\ai_env\\lib\\site-packages (from matplotlib!=3.6.1,>=3.4->seaborn) (0.11.0)\n",
      "Requirement already satisfied: fonttools>=4.22.0 in c:\\users\\tamanna\\anaconda3\\envs\\ai_env\\lib\\site-packages (from matplotlib!=3.6.1,>=3.4->seaborn) (4.55.3)\n",
      "Requirement already satisfied: kiwisolver>=1.3.1 in c:\\users\\tamanna\\anaconda3\\envs\\ai_env\\lib\\site-packages (from matplotlib!=3.6.1,>=3.4->seaborn) (1.4.8)\n",
      "Requirement already satisfied: packaging>=20.0 in c:\\users\\tamanna\\anaconda3\\envs\\ai_env\\lib\\site-packages (from matplotlib!=3.6.1,>=3.4->seaborn) (24.2)\n",
      "Requirement already satisfied: pillow>=8 in c:\\users\\tamanna\\anaconda3\\envs\\ai_env\\lib\\site-packages (from matplotlib!=3.6.1,>=3.4->seaborn) (11.1.0)\n",
      "Requirement already satisfied: pyparsing>=2.3.1 in c:\\users\\tamanna\\anaconda3\\envs\\ai_env\\lib\\site-packages (from matplotlib!=3.6.1,>=3.4->seaborn) (3.2.0)\n",
      "Requirement already satisfied: python-dateutil>=2.7 in c:\\users\\tamanna\\anaconda3\\envs\\ai_env\\lib\\site-packages (from matplotlib!=3.6.1,>=3.4->seaborn) (2.9.0.post0)\n",
      "Requirement already satisfied: pytz>=2020.1 in c:\\users\\tamanna\\anaconda3\\envs\\ai_env\\lib\\site-packages (from pandas>=1.2->seaborn) (2025.1)\n",
      "Requirement already satisfied: tzdata>=2022.7 in c:\\users\\tamanna\\anaconda3\\envs\\ai_env\\lib\\site-packages (from pandas>=1.2->seaborn) (2023.3)\n",
      "Requirement already satisfied: six>=1.5 in c:\\users\\tamanna\\anaconda3\\envs\\ai_env\\lib\\site-packages (from python-dateutil>=2.7->matplotlib!=3.6.1,>=3.4->seaborn) (1.17.0)\n",
      "Note: you may need to restart the kernel to use updated packages.\n"
     ]
    }
   ],
   "source": [
    "pip install seaborn"
   ]
  },
  {
   "cell_type": "markdown",
   "id": "bd50447f-bf18-4604-850e-51e668a938e2",
   "metadata": {},
   "source": [
    " Step 1: Baseline Comparison (Linear Regression)"
   ]
  },
  {
   "cell_type": "code",
   "execution_count": 4,
   "id": "172b15ff-6bfe-4a5c-853e-e2f38ab10dde",
   "metadata": {},
   "outputs": [
    {
     "name": "stdout",
     "output_type": "stream",
     "text": [
      "Linear Regression MSE: 0.0000\n",
      "Linear Regression R²: 1.0000\n",
      "Linear Regression Latency: 0.0289 seconds\n"
     ]
    }
   ],
   "source": [
    "import pandas as pd\n",
    "from sklearn.linear_model import LinearRegression\n",
    "from sklearn.metrics import mean_squared_error, r2_score\n",
    "import time\n",
    "\n",
    "# Load data\n",
    "data = pd.read_csv('B0005_Kalman_GA_Optimized.csv')\n",
    "\n",
    "# Prepare features and target\n",
    "features = ['Voltage_Min', 'Voltage_Max', 'Temperature_Avg', 'Capacity']\n",
    "X = data[features]\n",
    "y_true = data['SOH (%)']\n",
    "\n",
    "# Measure time for training + prediction\n",
    "start_time = time.time()\n",
    "\n",
    "# Linear Regression model\n",
    "lr_model = LinearRegression()\n",
    "lr_model.fit(X, y_true)\n",
    "lr_predictions = lr_model.predict(X)\n",
    "\n",
    "end_time = time.time()\n",
    "latency_lr = end_time - start_time\n",
    "\n",
    "# Evaluate metrics\n",
    "mse_lr = mean_squared_error(y_true, lr_predictions)\n",
    "r2_lr = r2_score(y_true, lr_predictions)\n",
    "\n",
    "print(f'Linear Regression MSE: {mse_lr:.4f}')\n",
    "print(f'Linear Regression R²: {r2_lr:.4f}')\n",
    "print(f'Linear Regression Latency: {latency_lr:.4f} seconds')\n",
    "\n",
    "# Save results for later use\n",
    "data['LinearRegression_SOH_Pred'] = lr_predictions\n",
    "data.to_csv('B0005_Baseline_LinearRegression.csv', index=False)"
   ]
  },
  {
   "cell_type": "markdown",
   "id": "093be6f0-4372-4ee2-a221-47a69f9a727e",
   "metadata": {},
   "source": [
    "Step 2: % Improvement Calculation"
   ]
  },
  {
   "cell_type": "code",
   "execution_count": 7,
   "id": "2407913b-dfa7-4a88-9306-48d8956ebf06",
   "metadata": {},
   "outputs": [
    {
     "name": "stdout",
     "output_type": "stream",
     "text": [
      "               Model           MSE        R²  Latency (s)  \\\n",
      "0  Linear Regression  1.430468e-28  1.000000        0.012   \n",
      "1      Random Forest  2.376363e+00  0.977275        0.500   \n",
      "2  Gradient Boosting  2.231254e+00  0.978663        0.650   \n",
      "3     Neural Network  8.971257e+00  0.914210        1.200   \n",
      "4       Hybrid Model  1.380552e+00  0.986798        2.800   \n",
      "\n",
      "   MSE Improvement (%)  R² Improvement (%)  Latency Increase (%)  \n",
      "0         0.000000e+00            0.000000              0.000000  \n",
      "1        -1.661249e+30           -2.272466           4066.666667  \n",
      "2        -1.559807e+30           -2.133702           5316.666667  \n",
      "3        -6.271555e+30           -8.579026           9900.000000  \n",
      "4        -9.651054e+29           -1.320193          23233.333333  \n"
     ]
    }
   ],
   "source": [
    "import pandas as pd\n",
    "from sklearn.metrics import mean_squared_error, r2_score\n",
    "\n",
    "# Load data\n",
    "data = pd.read_csv('B0005_Kalman_GA_Optimized.csv')\n",
    "baseline = pd.read_csv('B0005_Baseline_LinearRegression.csv')\n",
    "\n",
    "# True values\n",
    "y_true = data['SOH (%)']\n",
    "\n",
    "# Predictions from different models\n",
    "models = {\n",
    "    'Linear Regression': baseline['LinearRegression_SOH_Pred'],\n",
    "    'Random Forest': data['RandomForest_SOH_Pred'],\n",
    "    'Gradient Boosting': data['GradientBoosting_SOH_Pred'],\n",
    "    'Neural Network': data['NeuralNetwork_SOH_Pred'],\n",
    "    'Hybrid Model': data['SOH_Kalman_Optimized']\n",
    "}\n",
    "\n",
    "# Latency values (in seconds) — add your actual recorded latencies here\n",
    "latencies = {\n",
    "    'Linear Regression': 0.012,  # from your previous output\n",
    "    'Random Forest': 0.50,       # example values\n",
    "    'Gradient Boosting': 0.65,\n",
    "    'Neural Network': 1.20,\n",
    "    'Hybrid Model': 2.80\n",
    "}\n",
    "\n",
    "# Prepare results list\n",
    "results = []\n",
    "\n",
    "# Calculate metrics\n",
    "for name, preds in models.items():\n",
    "    mse = mean_squared_error(y_true, preds)\n",
    "    r2 = r2_score(y_true, preds)\n",
    "    latency = latencies.get(name, None)\n",
    "    results.append({'Model': name, 'MSE': mse, 'R²': r2, 'Latency (s)': latency})\n",
    "\n",
    "# Create DataFrame\n",
    "results_df = pd.DataFrame(results)\n",
    "\n",
    "# Calculate % Improvement over Baseline\n",
    "baseline_mse = results_df.loc[results_df['Model'] == 'Linear Regression', 'MSE'].values[0]\n",
    "baseline_r2 = results_df.loc[results_df['Model'] == 'Linear Regression', 'R²'].values[0]\n",
    "baseline_latency = results_df.loc[results_df['Model'] == 'Linear Regression', 'Latency (s)'].values[0]\n",
    "\n",
    "results_df['MSE Improvement (%)'] = ((baseline_mse - results_df['MSE']) / baseline_mse) * 100\n",
    "results_df['R² Improvement (%)'] = ((results_df['R²'] - baseline_r2) / baseline_r2) * 100\n",
    "results_df['Latency Increase (%)'] = ((results_df['Latency (s)'] - baseline_latency) / baseline_latency) * 100\n",
    "\n",
    "# Display the summary table\n",
    "print(results_df)\n",
    "\n",
    "# Save to CSV\n",
    "results_df.to_csv('Model_Comparison_Summary.csv', index=False)"
   ]
  },
  {
   "cell_type": "code",
   "execution_count": null,
   "id": "fd1e700d-9c96-4d64-bf31-0f9641c0ba24",
   "metadata": {},
   "outputs": [],
   "source": []
  }
 ],
 "metadata": {
  "kernelspec": {
   "display_name": "Python [conda env:ai_env]",
   "language": "python",
   "name": "conda-env-ai_env-py"
  },
  "language_info": {
   "codemirror_mode": {
    "name": "ipython",
    "version": 3
   },
   "file_extension": ".py",
   "mimetype": "text/x-python",
   "name": "python",
   "nbconvert_exporter": "python",
   "pygments_lexer": "ipython3",
   "version": "3.11.11"
  }
 },
 "nbformat": 4,
 "nbformat_minor": 5
}
